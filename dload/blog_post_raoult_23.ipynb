{
 "cells": [
  {
   "cell_type": "code",
   "execution_count": 1,
   "id": "4c7c60bd",
   "metadata": {},
   "outputs": [
    {
     "name": "stdout",
     "output_type": "stream",
     "text": [
      "Il y a 30423 patients dans la base de données.\n"
     ]
    }
   ],
   "source": [
    "import pandas as pd\n",
    "\n",
    "\n",
    "df = pd.read_csv('Database_Cohort_30423_COVID-19_IHU_041723.txt', sep='\\t')\n",
    "print(f'Il y a {df.shape[0]} patients dans la base de données.')"
   ]
  },
  {
   "cell_type": "code",
   "execution_count": 2,
   "id": "07394bfc",
   "metadata": {},
   "outputs": [
    {
     "name": "stdout",
     "output_type": "stream",
     "text": [
      "Il y a 221 patients pour lesquels nous ne connaissons pas le traitement.\n"
     ]
    }
   ],
   "source": [
    "print(f'Il y a {df.HCQ.isnull().sum()} patients pour lesquels nous ne connaissons pas le traitement.')\n",
    "df = df[df.HCQ.notnull()]"
   ]
  },
  {
   "cell_type": "code",
   "execution_count": 3,
   "id": "7d7161b6",
   "metadata": {},
   "outputs": [
    {
     "name": "stdout",
     "output_type": "stream",
     "text": [
      "Il y a 23172 patients traités avec HCQ+AZ, 7030 avec un autre traitement.\n"
     ]
    }
   ],
   "source": [
    "df['TRAITE'] = ((df.HCQ + df.AZ) == 2).astype(int)\n",
    "print(f'Il y a {df.TRAITE.sum()} patients traités avec HCQ+AZ, {(df.TRAITE == 0).sum()} avec un autre traitement.')"
   ]
  },
  {
   "cell_type": "code",
   "execution_count": 4,
   "id": "d028d57d",
   "metadata": {},
   "outputs": [
    {
     "name": "stdout",
     "output_type": "stream",
     "text": [
      "Il y a 14139 patients pour lesquels nous ne connaissons pas le passif médical.\n",
      "Il y a 12948 patients traités avec HCQ+AZ, 3115 avec un autre traitement.\n"
     ]
    }
   ],
   "source": [
    "print(f'Il y a {df.CANCER.isnull().sum()} patients pour lesquels nous ne connaissons pas le passif médical.')\n",
    "df = df[df.CANCER.notnull()]\n",
    "print(f'Il y a {df.TRAITE.sum()} patients traités avec HCQ+AZ, {(df.TRAITE == 0).sum()} avec un autre traitement.')"
   ]
  },
  {
   "cell_type": "code",
   "execution_count": 5,
   "id": "23fe2d62",
   "metadata": {},
   "outputs": [
    {
     "name": "stderr",
     "output_type": "stream",
     "text": [
      "3115it [00:17, 179.90it/s]"
     ]
    },
    {
     "name": "stdout",
     "output_type": "stream",
     "text": [
      "Il y a 1725 patients traités avec HCQ+AZ, 1725 avec un autre traitement.\n"
     ]
    },
    {
     "name": "stderr",
     "output_type": "stream",
     "text": [
      "\n"
     ]
    }
   ],
   "source": [
    "import tqdm\n",
    "\n",
    "match_cols = ['AGE', 'SEX', 'PERIOD', 'OUTPATIENT',\n",
    "              'VARIANT', 'VACCINATION', 'OBESITY', 'HBP', 'DIABETE', 'ASTHMA',\n",
    "              'COPD', 'CANCER', 'IMMUNODEFICIENCY', 'ChronicCardiacDiseases',\n",
    "              'AutoImmuneDiseases']\n",
    "\n",
    "matched = []\n",
    "\n",
    "ddf = df.sample(frac=1, random_state=81)\n",
    "\n",
    "candidates = ddf[ddf.TRAITE == 1]\n",
    "for idx, r in tqdm.tqdm(ddf[ddf.TRAITE == 0].iterrows()):\n",
    "    lc = candidates[(candidates[match_cols] == r[match_cols]).all(axis=1)]\n",
    "    if not lc.empty:\n",
    "        matched.append(idx)\n",
    "        matched.append(lc.index.values[0])\n",
    "        candidates = candidates.drop(index=lc.index.values[0])\n",
    "\n",
    "ddf = df.loc[matched]\n",
    "print(f'Il y a {ddf.TRAITE.sum()} patients traités avec HCQ+AZ, {(ddf.TRAITE == 0).sum()} avec un autre traitement.')"
   ]
  },
  {
   "cell_type": "code",
   "execution_count": 6,
   "id": "2fe69b7c",
   "metadata": {},
   "outputs": [
    {
     "name": "stdout",
     "output_type": "stream",
     "text": [
      "Il y a 15/1725 morts dans le groupe non traité et 10/1725 morts dans le groupe traité\n"
     ]
    }
   ],
   "source": [
    "print(f'Il y a {ddf[ddf.TRAITE == 0].DEATH.sum()}/1725 morts dans le groupe non traité et {ddf[ddf.TRAITE == 1].DEATH.sum()}/1725 morts dans le groupe traité')"
   ]
  },
  {
   "cell_type": "code",
   "execution_count": 7,
   "id": "9320813b",
   "metadata": {},
   "outputs": [
    {
     "name": "stdout",
     "output_type": "stream",
     "text": [
      "La probabilité que ce résultat soit dû au hasard est de 11.28%\n"
     ]
    }
   ],
   "source": [
    "from scipy.stats import chisquare\n",
    "\n",
    "\n",
    "res = chisquare([1710, 15], [1715, 10])\n",
    "print('La probabilité que ce résultat soit dû au hasard est de {:.2f}%'.format(res.pvalue * 100))"
   ]
  },
  {
   "cell_type": "code",
   "execution_count": null,
   "id": "6a5bb543",
   "metadata": {},
   "outputs": [],
   "source": []
  }
 ],
 "metadata": {
  "kernelspec": {
   "display_name": "Python 3 (ipykernel)",
   "language": "python",
   "name": "python3"
  },
  "language_info": {
   "codemirror_mode": {
    "name": "ipython",
    "version": 3
   },
   "file_extension": ".py",
   "mimetype": "text/x-python",
   "name": "python",
   "nbconvert_exporter": "python",
   "pygments_lexer": "ipython3",
   "version": "3.11.0"
  }
 },
 "nbformat": 4,
 "nbformat_minor": 5
}
